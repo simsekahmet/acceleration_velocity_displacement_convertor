{
  "nbformat": 4,
  "nbformat_minor": 0,
  "metadata": {
    "colab": {
      "provenance": [],
      "authorship_tag": "ABX9TyOmc3zq7Uzr/Oh6U/h1pVsV",
      "include_colab_link": true
    },
    "kernelspec": {
      "name": "python3",
      "display_name": "Python 3"
    },
    "language_info": {
      "name": "python"
    }
  },
  "cells": [
    {
      "cell_type": "markdown",
      "metadata": {
        "id": "view-in-github",
        "colab_type": "text"
      },
      "source": [
        "<a href=\"https://colab.research.google.com/github/simsekahmet/acceleration_velocity_displacement_convertor/blob/main/acc_vel_disp_convertor.ipynb\" target=\"_parent\"><img src=\"https://colab.research.google.com/assets/colab-badge.svg\" alt=\"Open In Colab\"/></a>"
      ]
    },
    {
      "cell_type": "code",
      "source": [
        "def displacement_to_velocity(displacement, time):\n",
        "  \"\"\"This function convert displacement array into velocity array.\n",
        "\n",
        "  --------------------\n",
        "  Args:\n",
        "      displacement (array, DataFrame): displacement column (cm)\n",
        "      time (array, DataFrame): time column (s.)\n",
        "\n",
        "  --------------------\n",
        "  Returns:\n",
        "      velocity (list): converted velocity column (cm/s)\n",
        "  \"\"\"\n",
        "  import pandas as pd\n",
        "  velocity = [(displacement[i] - displacement[i-1]) / (time[i] - time[i-1]) for i in range(1, len(displacement))]\n",
        "  velocity = pd.DataFrame(velocity)\n",
        "  return velocity"
      ],
      "metadata": {
        "id": "4kGfybJTD6YC"
      },
      "execution_count": null,
      "outputs": []
    },
    {
      "cell_type": "code",
      "execution_count": null,
      "metadata": {
        "id": "M8zKrrpr-VoY"
      },
      "outputs": [],
      "source": [
        "def velocity_to_acceleration(velocity, time):\n",
        "  \"\"\"This function convert velocity array into acceleration array.\n",
        "\n",
        "  --------------------\n",
        "  Args:\n",
        "      velocity (array, DataFrame): velocity column (cm/s)\n",
        "      time (array, DataFrame): time column (s.)\n",
        "\n",
        "  --------------------\n",
        "  Returns:\n",
        "      acceleration (list): converted acceleration column (cm/s^2)\n",
        "  \"\"\"\n",
        "  import pandas as pd\n",
        "  acceleration = [(velocity[i] - velocity[i-1]) / (time[i] - time[i-1]) for i in range(1, len(velocity))]\n",
        "  acceleration = pd.DataFrame(acceleration)\n",
        "  return acceleration"
      ]
    },
    {
      "cell_type": "code",
      "source": [
        "def acceleration_to_velocity(acceleration, time):\n",
        "  \"\"\"This function convert acceleration array into velocity array.\n",
        "\n",
        "  --------------------\n",
        "  Args:\n",
        "      acceleration (array, DataFrame): acceleration column (cm/s^2)\n",
        "      time (array, DataFrame): time column (s.)\n",
        "\n",
        "  --------------------\n",
        "  Returns:\n",
        "      velocity (list): converted velocity column (cm/s)\n",
        "  \"\"\"\n",
        "  import pandas as pd\n",
        "  from scipy import integrate\n",
        "  vel_np = integrate.cumtrapz(acceleration, time, initial=0)\n",
        "  velocity = pd.DataFrame(vel_np)\n",
        "  return velocity"
      ],
      "metadata": {
        "id": "t_d3s09iH-9m"
      },
      "execution_count": null,
      "outputs": []
    },
    {
      "cell_type": "code",
      "source": [
        "def velocity_to_displacament(velocity, time):\n",
        "  \"\"\"This function convert velocity array into displacement array.\n",
        "\n",
        "  --------------------\n",
        "  Args:\n",
        "      velocity (array, DataFrame): velocity column (cm/s)\n",
        "      time (array, DataFrame): time column (s.)\n",
        "\n",
        "  --------------------\n",
        "  Returns:\n",
        "      displacement (list): converted displacement column (cm)\n",
        "  \"\"\"\n",
        "  from scipy import integrate\n",
        "  import pandas as pd\n",
        "  disp_np = integrate.cumtrapz(velocity, time, initial=0)\n",
        "  displacement = pd.DataFrame(disp_np)\n",
        "  return displacement"
      ],
      "metadata": {
        "id": "Y_NOhUltIANI"
      },
      "execution_count": null,
      "outputs": []
    },
    {
      "cell_type": "code",
      "source": [
        "import pandas as pd\n",
        "df = pd.read_excel(\"example.xlsx\")\n",
        "\n",
        "disp_to_vel = displacement_to_velocity(df[\"disp (cm)\"], df[\"time\"])\n",
        "vel_to_acc = velocity_to_acceleration(df[\"vel (cm/s)\"], df[\"time\"])\n",
        "acc_to_vel = acceleration_to_velocity(df[\"acc (cm/s^2)\"], df[\"time\"])\n",
        "vel_to_disp = velocity_to_displacament(df[\"vel (cm/s)\"], df[\"time\"])\n"
      ],
      "metadata": {
        "id": "fEVLECB4ItdO"
      },
      "execution_count": null,
      "outputs": []
    }
  ]
}